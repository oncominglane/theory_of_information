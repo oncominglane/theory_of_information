{
 "cells": [
  {
   "cell_type": "markdown",
   "id": "10b3296b",
   "metadata": {},
   "source": [
    "\n",
    "<p style=\"display:block;text-align:center;font-weight:700;font-size:40px\">\n",
    "  <em>Эссе №2</em>\n",
    "</p>"
   ]
  },
  {
   "cell_type": "markdown",
   "id": "60f8487d",
   "metadata": {},
   "source": [
    "<p style=\"display:block;text-align:center;font-style:italic;font-weight:700;font-size:40px\">\n",
    "  <em>Код Хаффмана на реальном тексте</em>\n",
    "</p>"
   ]
  },
  {
   "cell_type": "markdown",
   "id": "037b4a15",
   "metadata": {},
   "source": [
    "## **Теория**"
   ]
  },
  {
   "cell_type": "markdown",
   "id": "43a3a89f",
   "metadata": {},
   "source": [
    "##### **Префиксный код (instantaneous code)**\n",
    "- **Определение.** Ни одно кодовое слово не является префиксом другого ⇒ декодирование «на лету» по обходу дерева.\n",
    "- **Бинарное дерево.**: путь от корня до листа = код слова (лево=0, право=1). Листья — символы алфавита.\n",
    "- **Средняя длина.** $\\bar L=\\sum_i p_i\\,l_i$, где $l_i$ — длина кода символа $i$, $p_i$ — его вероятность.\n"
   ]
  },
  {
   "cell_type": "markdown",
   "id": "58dbe4cd",
   "metadata": {},
   "source": [
    "##### **Неравенство Крафта–Макмиллана**\n",
    "- **Условие существования префиксного кода** с длинами $l_i$:  $$  \\sum_i 2^{-l_i} \\le 1.  $$\n",
    "- **Необходимо и достаточно.** Если набор длин удовлетворяет сумме, можно построить префиксный код с такими длинами.\n",
    "- **Интерпретация.** Каждый лист «занимает» долю $2^{-l_i}$ полной мощности двоичного дерева; сумма не должна превышать 1.\n"
   ]
  },
  {
   "cell_type": "markdown",
   "id": "76748d73",
   "metadata": {},
   "source": [
    "\n",
    "##### **Код Хаффмана (оптимальный префиксный код)**\n",
    "- **Задача.** Минимизировать $\\bar L=\\sum_i p_i\\,l_i$ при префиксности, зная вероятности $p_i$.\n",
    "- **Алгоритм (жадный, снизу вверх).**\n",
    "  1) Поместить все символы с их $p$ в приоритетную очередь (минимум наверху).\n",
    "  2) Повторять: взять **два** наименее вероятных узла, слить в новый узел с весом суммы; вернуть в очередь.\n",
    "  3) Когда остаётся один узел — это корень; глубины листьев дают длины $l_i$, ветви помечаются битами 0/1.\n",
    "- **Свойства.**\n",
    "  - **Оптимальность:** для заданных $p_i$ код Хаффмана минимизирует $\\bar L$ среди всех префиксных кодов.\n",
    "  - **Границы эффективности:** \n",
    "    $$ H \\;\\le\\; \\bar L_{\\text{Huff}} \\;<\\; H+1, \\quad\n",
    "    H=-\\sum_i p_i\\log_2 p_i.  $$\n",
    "- **Практика.** Базовый кирпич современных архиваторов/кодеков (в чистом виде или как подблок): короткие коды для частых символов, длинные — для редких.\n"
   ]
  },
  {
   "cell_type": "markdown",
   "id": "ac0fcd4a",
   "metadata": {},
   "source": [
    "## **Практика**"
   ]
  },
  {
   "cell_type": "code",
   "execution_count": 22,
   "id": "7042cab6",
   "metadata": {},
   "outputs": [],
   "source": [
    "import math\n",
    "import heapq\n",
    "from collections import Counter, defaultdict\n",
    "import numpy as np\n",
    "import matplotlib.pyplot as plt"
   ]
  },
  {
   "cell_type": "code",
   "execution_count": 23,
   "id": "6273bf9a",
   "metadata": {},
   "outputs": [],
   "source": [
    "'''препроцессинг'''\n",
    "KEEP_CASE = False      # False -> приводить к нижнему регистру\n",
    "KEEP_SPACES = True     # True  -> оставлять пробелы как символ\n",
    "KEEP_PUNCT = True      # True  -> оставлять пунктуацию\n",
    "\n",
    "def preprocess_from_file(path, keep_case=False, keep_spaces=True, keep_punct=True):\n",
    "    import re\n",
    "    \n",
    "    with open(path, \"r\", encoding=\"cp1251\") as f:\n",
    "        text = f.read()\n",
    "\n",
    "    # регистр\n",
    "    if not keep_case:\n",
    "        text = text.lower()\n",
    "\n",
    "    # нормализация пробелов\n",
    "    if keep_spaces:\n",
    "        text = re.sub(r\"\\s+\", \" \", text)\n",
    "    else:\n",
    "        text = re.sub(r\"\\s+\", \"\", text)\n",
    "\n",
    "    # фильтр пунктуации (оставляем только цифры/буквы/пробел)\n",
    "    if not keep_punct:\n",
    "        text = re.sub(r\"[^0-9a-zа-яё ]+\", \"\", text)\n",
    "\n",
    "    return text"
   ]
  },
  {
   "cell_type": "code",
   "execution_count": 24,
   "id": "11f9e938",
   "metadata": {},
   "outputs": [
    {
     "name": "stdout",
     "output_type": "stream",
     "text": [
      "Длина текста символов: 163098\n",
      "Пример: 'но лес оставался безразличен. он был так безразличен, что даже не был виден. под обрывом была тьма, и только на самом горизонте что-то широкое и слоистое, серое и бесформенное вяло светилось в сиянии '\n"
     ]
    }
   ],
   "source": [
    "TEXT_PATH = \"data/Ulitka_na_sklone.txt\" # братья Стругацкие, Улитка на склоне\n",
    "\n",
    "text = preprocess_from_file(TEXT_PATH,\n",
    "                            keep_case=False,\n",
    "                            keep_spaces=True,\n",
    "                            keep_punct=True)   \n",
    "print(\"Длина текста символов:\", len(text))\n",
    "print(\"Пример:\", repr(text[:200]))"
   ]
  },
  {
   "cell_type": "code",
   "execution_count": 25,
   "id": "a6ea8009",
   "metadata": {},
   "outputs": [
    {
     "name": "stdout",
     "output_type": "stream",
     "text": [
      "Длина текста: 163098 символов, алфавит: 48\n",
      "Энтропия H ≈ 4.5484 бит/символ\n",
      "Фиксированный код: 6 бит/символ\n"
     ]
    }
   ],
   "source": [
    "'''Частоты, вероятности и энтропия'''\n",
    "cnt = Counter(text) # вернет словарь вида {символ: сколько раз встретился}\n",
    "N = sum(cnt.values())\n",
    "alphabet = sorted(cnt.keys()) # список уникальных символов\n",
    "M = len(alphabet)\n",
    "\n",
    "probs = {ch: cnt[ch] / N for ch in alphabet} # эмпирические вероятности\n",
    "\n",
    "def entropy_bits(prob_dict) -> float:\n",
    "    '''энтропия Шеннона в битах'''\n",
    "    s = 0.0\n",
    "    for p in prob_dict.values():\n",
    "        if p > 0.0:\n",
    "            s -= p * math.log2(p)\n",
    "    return s\n",
    "\n",
    "H = entropy_bits(probs)\n",
    "print(f\"Длина текста: {N} символов, алфавит: {M}\")\n",
    "print(f\"Энтропия H ≈ {H:.4f} бит/символ\")\n",
    "\n",
    "# Базовый фиксированный код по размеру алфавита:\n",
    "L_fixed = math.ceil(math.log2(M)) if M > 1 else 0\n",
    "print(f\"Фиксированный код: {L_fixed} бит/символ\")"
   ]
  },
  {
   "cell_type": "code",
   "execution_count": 26,
   "id": "022527ef",
   "metadata": {},
   "outputs": [],
   "source": [
    "'''листок дерева'''\n",
    "\n",
    "class Node: # один узел\n",
    "    __slots__ = (\"p\", \"sym\", \"left\", \"right\")\n",
    "    def __init__(self, p, sym=None, left=None, right=None):\n",
    "        self.p = p #вес узла\n",
    "        self.sym = sym # сам символ (для внутренних узлов = None)\n",
    "        self.left = left\n",
    "        self.right = right # ссылки на левое/правое деревья (у листа = None)\n",
    "        \n",
    "    def __lt__(self, other):  # чтобы heapq.heappop мог вытаскивать узел с наименьшим p (по вероятности)\n",
    "        return self.p < other.p"
   ]
  },
  {
   "cell_type": "code",
   "execution_count": 27,
   "id": "992245b7",
   "metadata": {},
   "outputs": [],
   "source": [
    "def build_huffman_tree(prob_dict):\n",
    "    '''Классическое дерево Хаффмана в виде кучи из листьев'''\n",
    "    heap = []\n",
    "    uid = 0  # счётчик для стабильности при равных p\n",
    "    for ch, p in prob_dict.items():\n",
    "        heapq.heappush(heap, (p, uid, Node(p, sym=ch))) \n",
    "        # кладем все символы как листья в кучу (сначала сравниваем по p)\n",
    "        uid += 1\n",
    "        # Node(p, sym=ch) — лист с весом p и символом ch.\n",
    "    if len(heap) == 1:\n",
    "        # крайний случай: один символ -  код = 0\n",
    "        p, _, only = heapq.heappop(heap)\n",
    "        root = Node(p, left=only, right=None)\n",
    "        return root\n",
    "\n",
    "    while len(heap) > 1:\n",
    "        # вытаскиваем два самых лёгких узла n1, n2 с весами p1, p2\n",
    "        p1, _, n1 = heapq.heappop(heap)\n",
    "        p2, _, n2 = heapq.heappop(heap)\n",
    "        # создаем их общего родителя с весом p1+ p2\n",
    "        parent = Node(p1 + p2, left=n1, right=n2)\n",
    "        # и кладем родилеля обратно в кучу\n",
    "        heapq.heappush(heap, (parent.p, uid, parent))\n",
    "        uid += 1\n",
    "    return heapq.heappop(heap)[2]  # корень дерева"
   ]
  },
  {
   "cell_type": "markdown",
   "id": "01ba9377",
   "metadata": {},
   "source": [
    "Сложность такого алгоритма для алфавита из $M$ символов - примерно $O(MlogM)$.  \n",
    "Длина кода символа = глубине листа с этим символом в дереве."
   ]
  },
  {
   "cell_type": "code",
   "execution_count": 28,
   "id": "e09a678e",
   "metadata": {},
   "outputs": [],
   "source": [
    "'''Обход дерева и сбор длин кодов'''\n",
    "def extract_codes_from_tree(root):\n",
    "    codes = {} # коды символов\n",
    "    lengths = {} # длины кодов символов\n",
    "    def dfs(node, path):\n",
    "        '''Сама функция обхода дерева'''\n",
    "        if node.sym is not None: # если узел это лист\n",
    "            codes[node.sym] = path if path != \"\" else \"0\"  # один символ в алфавите\n",
    "            lengths[node.sym] = len(codes[node.sym])\n",
    "            return\n",
    "        # дальше если узел не лист то рекурсивно спускаемся вглубь вправо или влево\n",
    "        if node.left is not None:\n",
    "            dfs(node.left, path + \"0\")\n",
    "        if node.right is not None:\n",
    "            dfs(node.right, path + \"1\")\n",
    "\n",
    "    dfs(root, \"\") #вызываем обход дерева от корня\n",
    "    return codes, lengths"
   ]
  },
  {
   "cell_type": "code",
   "execution_count": 29,
   "id": "a540778c",
   "metadata": {},
   "outputs": [
    {
     "name": "stdout",
     "output_type": "stream",
     "text": [
      "Средняя длина кода Хаффмана   ≈ 4.5817 бит/символ\n",
      "Границы: H ≤ L < H+1 -> 4.5484 ≤ 4.5817 < 5.5484\n"
     ]
    }
   ],
   "source": [
    "# строим дерево и извлекаем коды и длины\n",
    "root = build_huffman_tree(probs)\n",
    "codes, lengths = extract_codes_from_tree(root)\n",
    "# считаем с реднюю длину кода\n",
    "avg_len = sum(probs[ch] * lengths[ch] for ch in alphabet)\n",
    "print(f\"Средняя длина кода Хаффмана   ≈ {avg_len:.4f} бит/символ\")\n",
    "if H < avg_len: print(f\"Границы: H ≤ L < H+1 -> {H:.4f} ≤ {avg_len:.4f} < {H+1:.4f}\")"
   ]
  },
  {
   "cell_type": "markdown",
   "id": "fc8b93c3",
   "metadata": {},
   "source": [
    "Неравенству Крафта автоматически удовлетворяем, т к алгоритм построения дерева Хаффмана строит префиксный код (листья дерева не перекрываются)."
   ]
  },
  {
   "cell_type": "code",
   "execution_count": 30,
   "id": "e382255c",
   "metadata": {},
   "outputs": [
    {
     "name": "stdout",
     "output_type": "stream",
     "text": [
      "Проверка кодирование-декодирование: OK\n",
      "Бит на весь текст: 747258 (≈ 4.5817 бит/символ)\n"
     ]
    }
   ],
   "source": [
    "'''Кодирование / декодирование'''\n",
    "def huffman_encode(text, codebook):\n",
    "    '''кодирование'''\n",
    "    # идем по символам исходного текста и складываем их коды друг за другом\n",
    "    # на выходе - строка из 0 и 1 без разделителей\n",
    "    return \"\".join(codebook[ch] for ch in text)\n",
    "\n",
    "def huffman_decode(bitstring, root):\n",
    "    '''декодирование'''\n",
    "    out = []\n",
    "    node = root\n",
    "    for b in bitstring:\n",
    "        node = node.left if b == \"0\" else node.right\n",
    "        if node.sym is not None:  # достигли листа - значит прочитали 1 кодовое слово\n",
    "            out.append(node.sym) # добавляем символ в ответ\n",
    "            node = root # сбрасываемся в корень дерева\n",
    "    return \"\".join(out) # склеиваем все в строку\n",
    "\n",
    "bitstream = huffman_encode(text, codes)\n",
    "decoded = huffman_decode(bitstream, root)\n",
    "print(\"Проверка кодирование-декодирование:\", \"OK\" if decoded == text else \"DECODE MISMATCH\")\n",
    "\n",
    "total_bits = len(bitstream)\n",
    "print(f\"Бит на весь текст: {total_bits} (≈ {total_bits/N:.4f} бит/символ)\")"
   ]
  },
  {
   "cell_type": "code",
   "execution_count": 35,
   "id": "5b75ee9f",
   "metadata": {},
   "outputs": [
    {
     "name": "stdout",
     "output_type": "stream",
     "text": [
      "Эффективность η = H / L ≈ 0.9927\n",
      "Разница R = L - H ≈ 0.0332 бит/символ\n",
      "В сравнении с фикс кодом: 4.5817 vs 6 (бит/символ)\n"
     ]
    },
    {
     "data": {
      "image/png": "[encoded data removed]",
      "text/plain": [
       "<Figure size 640x480 with 1 Axes>"
      ]
     },
     "metadata": {},
     "output_type": "display_data"
    },
    {
     "name": "stdout",
     "output_type": "stream",
     "text": [
      "' ' 26918\n",
      "'о' 13875\n",
      "'е' 11111\n",
      "'а' 10688\n",
      "'н' 8453\n",
      "'и' 8172\n",
      "'т' 8011\n",
      "'с' 6472\n",
      "'л' 6193\n",
      "'р' 5597\n"
     ]
    },
    {
     "data": {
      "image/png": "[encoded data removed]",
      "text/plain": [
       "<Figure size 640x480 with 1 Axes>"
      ]
     },
     "metadata": {},
     "output_type": "display_data"
    }
   ],
   "source": [
    "efficiency = H / avg_len if avg_len > 0 else 1.0\n",
    "redundancy = avg_len - H\n",
    "\n",
    "print(f\"Эффективность η = H / L ≈ {efficiency:.4f}\")\n",
    "print(f\"Разница R = L - H ≈ {redundancy:.4f} бит/символ\")\n",
    "print(f\"В сравнении с фикс кодом: {avg_len:.4f} vs {L_fixed} (бит/символ)\")\n",
    "\n",
    "top = 20\n",
    "items = sorted(cnt.items(), key=lambda x: x[1], reverse=True)[:top]\n",
    "labels = [repr(k) for k, _ in items]  # чтобы видеть пробелы/переносы\n",
    "vals = [v for _, v in items]\n",
    "\n",
    "plt.figure()\n",
    "plt.bar(range(len(vals)), vals)\n",
    "plt.xticks(range(len(vals)), labels, rotation=45, ha='right')\n",
    "plt.ylabel(\"частота\")\n",
    "plt.title(\"топ-символы по частоте\")\n",
    "plt.tight_layout()\n",
    "plt.show()\n",
    "\n",
    "for ch, v in items[:10]:\n",
    "    print(repr(ch), v)\n",
    "\n",
    "# Рассеяние: -log2(p) vs фактическая длина l (ожидание: близко)\n",
    "neglogp = np.array([-math.log2(probs[ch]) for ch in alphabet])\n",
    "lens = np.array([lengths[ch] for ch in alphabet])\n",
    "\n",
    "plt.figure()\n",
    "plt.scatter(neglogp, lens)\n",
    "plt.xlabel(\"-log2 p_i (теоретический минимум длины)\")\n",
    "plt.ylabel(\"l_i (длина кода Хаффмана)\")\n",
    "plt.title(\"Длина кода vs -log2 p\")\n",
    "plt.grid(True)\n",
    "plt.show()"
   ]
  },
  {
   "cell_type": "markdown",
   "id": "12689d22",
   "metadata": {},
   "source": [
    "Отклонения от ровной диагонали $x=y$ из за квантования до целых бит."
   ]
  },
  {
   "cell_type": "markdown",
   "id": "61b351d8",
   "metadata": {},
   "source": [
    "\n",
    "Энтропия текста: ~4.55 бит/симв. Префиксный код Хаффмана даёт ~4.58 бит/симв (разница ~0.033 бит/симв), что близко к теоретическому пределу.   \n",
    "Относительно фиксированного 6-битного кода по M=48 экономия ~24%,  \n",
    "относительно cp1251 (8 бит/симв) — ~43% по объёму данных."
   ]
  },
  {
   "cell_type": "markdown",
   "id": "ed72fe07",
   "metadata": {},
   "source": [
    "## **Применимость подхода**"
   ]
  },
  {
   "cell_type": "markdown",
   "id": "a41ed070",
   "metadata": {},
   "source": [
    "\n",
    "- **Архиваторы и форматы:** базовый кирпич в ZIP/gzip/DEFLATE, PNG (внутри — Хаффман над символами потоков), JPEG (кодовые таблицы Хаффмана для коэффициентов), многие аудио/видео кодеки используют вариации префиксного кодирования.\n",
    "- **Логи и телеметрия:** коды разной длины для «частых» событий/тегов → уменьшение трафика/хранилища без потерь.\n",
    "- **Встраиваемые и realtime-системы:** префиксность -> мгновенное декодирование по дереву/таблице (без буферов и плавающей точки) — дешёво и быстро на железе/микроконтроллерах.\n",
    "- **Протоколы и словари:** компактные идентификаторы/токены для часто встречающихся строк/ключей (RPC, сериализация, кеши).\n",
    "- **Текст/JSON/лог-файлы:** простой способ уменьшить объём без сложной модели."
   ]
  },
  {
   "cell_type": "markdown",
   "id": "e08085f0",
   "metadata": {},
   "source": [
    "\n",
    "**Почему именно код Хаффмана**\n",
    "- **Оптимален среди префиксных кодов:** для известных вероятностей даёт минимальную среднюю длину $\\bar L$ с гарантией $H \\le  L < H+1$.\n",
    "- **Прост и быстp:** построение $O(M\\log M)$, кодирование/декодирование $O(N)$; реализация — куча + дерево/таблица.\n",
    "- **Детерминирован и переносим:** канонический вариант хранит только длины кодов.\n",
    "- **Кодирует по границе:** показали, как близко можно подойти к энтропийному пределу и где остаётся разница.\n",
    "\n"
   ]
  },
  {
   "cell_type": "markdown",
   "id": "f04f62fe",
   "metadata": {},
   "source": [
    "## **Литература**"
   ]
  },
  {
   "cell_type": "markdown",
   "id": "709cfc8e",
   "metadata": {},
   "source": [
    "https://ru.wikipedia.org/wiki/Информационная_энтропия   \n",
    "https://ru.wikipedia.org/wiki/Префиксный_код  \n",
    "https://ru.wikipedia.org/wiki/Неравенство_Крафта_—_Макмиллана  \n",
    "https://ru.wikipedia.org/wiki/Код_Хаффмана  \n",
    "\n",
    "https://pythonread.github.io/dsa/huffman-coding.html  \n",
    "https://habr.com/ru/companies/otus/articles/497566/  \n"
   ]
  }
 ],
 "metadata": {
  "kernelspec": {
   "display_name": "Python 3",
   "language": "python",
   "name": "python3"
  },
  "language_info": {
   "codemirror_mode": {
    "name": "ipython",
    "version": 3
   },
   "file_extension": ".py",
   "mimetype": "text/x-python",
   "name": "python",
   "nbconvert_exporter": "python",
   "pygments_lexer": "ipython3",
   "version": "3.10.11"
  }
 },
 "nbformat": 4,
 "nbformat_minor": 5
}
